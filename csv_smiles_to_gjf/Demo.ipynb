{
 "cells": [
  {
   "cell_type": "code",
   "execution_count": 3,
   "id": "olympic-drinking",
   "metadata": {},
   "outputs": [],
   "source": [
    "import os, glob\n",
    "from pathlib import Path\n",
    "from aqme.csearch import csearch\n",
    "from aqme.qprep import qprep\n",
    "import pandas as pd"
   ]
  },
  {
   "cell_type": "code",
   "execution_count": 4,
   "id": "downtown-truth",
   "metadata": {},
   "outputs": [],
   "source": [
    "df = pd.read_csv('test.csv')"
   ]
  },
  {
   "cell_type": "code",
   "execution_count": 5,
   "id": "engaging-surgery",
   "metadata": {},
   "outputs": [
    {
     "data": {
      "text/html": [
       "<div>\n",
       "<style scoped>\n",
       "    .dataframe tbody tr th:only-of-type {\n",
       "        vertical-align: middle;\n",
       "    }\n",
       "\n",
       "    .dataframe tbody tr th {\n",
       "        vertical-align: top;\n",
       "    }\n",
       "\n",
       "    .dataframe thead th {\n",
       "        text-align: right;\n",
       "    }\n",
       "</style>\n",
       "<table border=\"1\" class=\"dataframe\">\n",
       "  <thead>\n",
       "    <tr style=\"text-align: right;\">\n",
       "      <th></th>\n",
       "      <th>rxn_smiles</th>\n",
       "      <th>rxn_type</th>\n",
       "      <th>R</th>\n",
       "      <th>P</th>\n",
       "      <th>isDel</th>\n",
       "    </tr>\n",
       "  </thead>\n",
       "  <tbody>\n",
       "    <tr>\n",
       "      <th>0</th>\n",
       "      <td>[O]OC(OC)C&gt;&gt;[CH2]C(OC)OO</td>\n",
       "      <td>2a-1_5mem</td>\n",
       "      <td>[O]OC(OC)C</td>\n",
       "      <td>[CH2]C(OC)OO</td>\n",
       "      <td>False</td>\n",
       "    </tr>\n",
       "    <tr>\n",
       "      <th>1</th>\n",
       "      <td>[O]OCCOC&gt;&gt;CO[CH]COO</td>\n",
       "      <td>1-2a_5mem</td>\n",
       "      <td>[O]OCCOC</td>\n",
       "      <td>CO[CH]COO</td>\n",
       "      <td>False</td>\n",
       "    </tr>\n",
       "    <tr>\n",
       "      <th>2</th>\n",
       "      <td>[O]OC(C)(OC)C&gt;&gt;[CH2]C(C)(OC)OO</td>\n",
       "      <td>3a-1_5mem</td>\n",
       "      <td>[O]OC(C)(OC)C</td>\n",
       "      <td>[CH2]C(C)(OC)OO</td>\n",
       "      <td>False</td>\n",
       "    </tr>\n",
       "    <tr>\n",
       "      <th>3</th>\n",
       "      <td>[O]OCC(C)OC&gt;&gt;CO[C](C)COO</td>\n",
       "      <td>1-3a_5mem</td>\n",
       "      <td>[O]OCC(C)OC</td>\n",
       "      <td>CO[C](C)COO</td>\n",
       "      <td>False</td>\n",
       "    </tr>\n",
       "    <tr>\n",
       "      <th>4</th>\n",
       "      <td>[O]OC(CC)OC&gt;&gt;C[CH]C(OC)OO</td>\n",
       "      <td>2a-2_5mem</td>\n",
       "      <td>[O]OC(CC)OC</td>\n",
       "      <td>C[CH]C(OC)OO</td>\n",
       "      <td>False</td>\n",
       "    </tr>\n",
       "  </tbody>\n",
       "</table>\n",
       "</div>"
      ],
      "text/plain": [
       "                       rxn_smiles   rxn_type              R                P  \\\n",
       "0        [O]OC(OC)C>>[CH2]C(OC)OO  2a-1_5mem     [O]OC(OC)C     [CH2]C(OC)OO   \n",
       "1             [O]OCCOC>>CO[CH]COO  1-2a_5mem       [O]OCCOC        CO[CH]COO   \n",
       "2  [O]OC(C)(OC)C>>[CH2]C(C)(OC)OO  3a-1_5mem  [O]OC(C)(OC)C  [CH2]C(C)(OC)OO   \n",
       "3        [O]OCC(C)OC>>CO[C](C)COO  1-3a_5mem    [O]OCC(C)OC      CO[C](C)COO   \n",
       "4       [O]OC(CC)OC>>C[CH]C(OC)OO  2a-2_5mem    [O]OC(CC)OC     C[CH]C(OC)OO   \n",
       "\n",
       "   isDel  \n",
       "0  False  \n",
       "1  False  \n",
       "2  False  \n",
       "3  False  \n",
       "4  False  "
      ]
     },
     "execution_count": 5,
     "metadata": {},
     "output_type": "execute_result"
    }
   ],
   "source": [
    "df"
   ]
  },
  {
   "cell_type": "code",
   "execution_count": 9,
   "id": "moral-brand",
   "metadata": {},
   "outputs": [
    {
     "name": "stdout",
     "output_type": "stream",
     "text": [
      "AQME v 1.3 2022/09/02 15:21:16 \n",
      "Citation: AQME v 1.3, Alegre-Requena, J. V.; Sowndarya, S.; Perez-Soto, R.; Alturaifi, T. M.; Paton, R. S., 2022. https://github.com/jvalegre/aqme\n",
      "\n",
      "\n",
      "\n",
      "Starting CSEARCH with 1 job(s) (SDF, XYZ, CSV, etc. files might contain multiple jobs/structures inside)\n",
      "\n",
      "\n",
      "\n",
      "   ----- 0 -----\n",
      "\n",
      "\n",
      "o  Applying filters to initial conformers\n",
      "\n",
      "\n",
      "Time CSEARCH: 0.53 seconds\n",
      "\n",
      "\n",
      "AQME v 1.3 2022/09/02 15:21:16 \n",
      "Citation: AQME v 1.3, Alegre-Requena, J. V.; Sowndarya, S.; Perez-Soto, R.; Alturaifi, T. M.; Paton, R. S., 2022. https://github.com/jvalegre/aqme\n",
      "\n",
      "\n",
      "\n",
      "Starting CSEARCH with 1 job(s) (SDF, XYZ, CSV, etc. files might contain multiple jobs/structures inside)\n",
      "\n",
      "\n",
      "\n",
      "   ----- 1 -----\n",
      "\n",
      "\n",
      "o  Applying filters to initial conformers\n",
      "\n",
      "\n",
      "Time CSEARCH: 0.45 seconds\n",
      "\n",
      "\n",
      "AQME v 1.3 2022/09/02 15:21:16 \n",
      "Citation: AQME v 1.3, Alegre-Requena, J. V.; Sowndarya, S.; Perez-Soto, R.; Alturaifi, T. M.; Paton, R. S., 2022. https://github.com/jvalegre/aqme\n",
      "\n",
      "\n",
      "\n",
      "Starting CSEARCH with 1 job(s) (SDF, XYZ, CSV, etc. files might contain multiple jobs/structures inside)\n",
      "\n",
      "\n",
      "\n",
      "   ----- 2 -----\n",
      "\n",
      "\n",
      "o  Applying filters to initial conformers\n",
      "\n",
      "\n",
      "Time CSEARCH: 0.77 seconds\n",
      "\n",
      "\n",
      "AQME v 1.3 2022/09/02 15:21:16 \n",
      "Citation: AQME v 1.3, Alegre-Requena, J. V.; Sowndarya, S.; Perez-Soto, R.; Alturaifi, T. M.; Paton, R. S., 2022. https://github.com/jvalegre/aqme\n",
      "\n",
      "\n",
      "\n",
      "Starting CSEARCH with 1 job(s) (SDF, XYZ, CSV, etc. files might contain multiple jobs/structures inside)\n",
      "\n",
      "\n",
      "\n",
      "   ----- 3 -----\n",
      "\n",
      "\n",
      "o  Applying filters to initial conformers\n",
      "\n",
      "\n",
      "Time CSEARCH: 0.79 seconds\n",
      "\n",
      "\n",
      "AQME v 1.3 2022/09/02 15:21:16 \n",
      "Citation: AQME v 1.3, Alegre-Requena, J. V.; Sowndarya, S.; Perez-Soto, R.; Alturaifi, T. M.; Paton, R. S., 2022. https://github.com/jvalegre/aqme\n",
      "\n",
      "\n",
      "\n",
      "Starting CSEARCH with 1 job(s) (SDF, XYZ, CSV, etc. files might contain multiple jobs/structures inside)\n",
      "\n",
      "\n",
      "\n",
      "   ----- 4 -----\n",
      "\n",
      "\n",
      "o  Applying filters to initial conformers\n",
      "\n",
      "\n",
      "Time CSEARCH: 0.85 seconds\n",
      "\n",
      "\n"
     ]
    }
   ],
   "source": [
    "for ind, row in df.iterrows():\n",
    "    #print(ind, row['R'])\n",
    "    csearch(w_dir_main='./',destination='./',\n",
    "        program='rdkit',smi=row['R'],name=str(ind))"
   ]
  },
  {
   "cell_type": "code",
   "execution_count": 10,
   "id": "organic-insert",
   "metadata": {},
   "outputs": [
    {
     "name": "stdout",
     "output_type": "stream",
     "text": [
      "AQME v 1.3 2022/09/02 15:21:16 \n",
      "Citation: AQME v 1.3, Alegre-Requena, J. V.; Sowndarya, S.; Perez-Soto, R.; Alturaifi, T. M.; Paton, R. S., 2022. https://github.com/jvalegre/aqme\n",
      "\n",
      "\n",
      "o  3_rdkit successfully processed at g16_inputs\n",
      "\n",
      "o  4_rdkit successfully processed at g16_inputs\n",
      "\n",
      "o  2_rdkit successfully processed at g16_inputs\n",
      "\n",
      "o  1_rdkit successfully processed at g16_inputs\n",
      "\n",
      "o  0_rdkit successfully processed at g16_inputs\n",
      "\n",
      "\n",
      "Time QPREP: 0.04 seconds\n",
      "\n",
      "\n"
     ]
    },
    {
     "data": {
      "text/plain": [
       "<aqme.qprep.qprep at 0x7ff2a6421610>"
      ]
     },
     "execution_count": 10,
     "metadata": {},
     "output_type": "execute_result"
    }
   ],
   "source": [
    "sdf_rdkit_files = glob.glob('*.sdf')\n",
    "qprep(w_dir_main='./',destination='./g16_inputs',files=sdf_rdkit_files,program='gaussian',\n",
    "        qm_input='B3LYP/6-31G(2df,p) opt freq',mem='24GB',nprocs=8)"
   ]
  },
  {
   "cell_type": "code",
   "execution_count": null,
   "id": "computational-thesaurus",
   "metadata": {},
   "outputs": [],
   "source": []
  }
 ],
 "metadata": {
  "kernelspec": {
   "display_name": "Python 3",
   "language": "python",
   "name": "python3"
  },
  "language_info": {
   "codemirror_mode": {
    "name": "ipython",
    "version": 3
   },
   "file_extension": ".py",
   "mimetype": "text/x-python",
   "name": "python",
   "nbconvert_exporter": "python",
   "pygments_lexer": "ipython3",
   "version": "3.7.9"
  }
 },
 "nbformat": 4,
 "nbformat_minor": 5
}
