{
 "cells": [
  {
   "cell_type": "code",
   "execution_count": 1,
   "id": "metropolitan-elizabeth",
   "metadata": {},
   "outputs": [],
   "source": [
    "from rdkit.Chem import AllChem\n",
    "from rdkit.Chem import rdChemReactions\n",
    "from rdkit import Chem\n",
    "from rdkit.Chem import Draw, AllChem\n",
    "from rdkit.Chem.Descriptors import NumRadicalElectrons\n",
    "from IPython.display import Image, display\n",
    "from enum_rxns import *\n",
    "import pandas as pd\n",
    "from rdkit import RDLogger\n",
    "RDLogger.DisableLog('rdApp.*')"
   ]
  },
  {
   "cell_type": "code",
   "execution_count": 2,
   "id": "sacred-timeline",
   "metadata": {},
   "outputs": [],
   "source": [
    "rxn_sma_cyc_3mem = '[C;X3v3+0:1]-[*:2]-[O:3]-[OH:4]>>[C;X3v3+0:1]1[*:2]-[O:3]1.[OH:4]'\n",
    "rxn_sma_cyc_4mem = '[C;X3v3+0:1]-[*:2]-[*:3]-[O:4]-[OH:5]>>[C;X3v3+0:1]1[*:2]-[*:3]-[O:4]1.[OH:5]'\n",
    "rxn_sma_cyc_5mem = '[C;X3v3+0:1]-[*:2]-[*:3]-[*:4]-[O:5]-[OH:6]>>[C;X3v3+0:1]1[*:2]-[*:3]-[*:4]-[O:5]1.[OH:6]'\n",
    "rxn_sma_cyc_6mem = '[C;X3v3+0:1]-[*:2]-[*:3]-[*:4]-[*:5]-[O:6]-[OH:7]>>[C;X3v3+0:1]1[*:2]-[*:3]-[*:4]-[*:5]-[O:6]1.[OH:7]'\n",
    "beta_scis = '[C;X3v3+0:1]-[*:2]-[*:3]>>[C:1]=[*:2].[*:3]'\n",
    "\n",
    "rxns = [rxn_sma_cyc_3mem, rxn_sma_cyc_4mem, rxn_sma_cyc_5mem, rxn_sma_cyc_6mem,\n",
    "       beta_scis]\n",
    "rxns_str = ['cyc_3mem', 'cyc_4mem', 'cyc_5mem', 'cyc_6mem', 'beta_scis']\n",
    "\n",
    "\n",
    "df = pd.concat([pd.read_csv('ro2_qooh_'+ str(x) + 'mem.csv') for x in [5,6,7,8]])\n",
    "\n",
    "#print(len(df), len(df.P.unique()))\n",
    "#print(len(set([Chem.MolToSmiles(Chem.MolFromSmiles(x)) for x in df.P])))\n",
    "reactants = [[x] for x in list(df.P)] # QOOH's\n",
    "#print(len(reactants))\n",
    "\n",
    "df_all = pd.DataFrame(columns = ['rxn_smiles','R','P','rxn_type'])\n",
    "\n",
    "Images = []\n",
    "rxn_smiles_all = []\n",
    "for a, rxn_to_run in enumerate(rxns):\n",
    "    for i, reactant in enumerate(reactants):\n",
    "        possible_products = run_rxn(rxn_to_run, reactant)\n",
    "        #if possible_products == []:\n",
    "        #    print(reactant)\n",
    "        #print(possible_products)\n",
    "\n",
    "        for j, prod in enumerate(possible_products):\n",
    "            if '[HH]' in prod:\n",
    "                continue\n",
    "            rxn_smiles = '.'.join(reactant)+'>>'+'.'.join(prod)\n",
    "            #print(rxn_smiles, rxn_type)\n",
    "            rxn_smiles_all.append(rxn_smiles)\n",
    "            #png = visualize_rxn(rxn_smiles, 'test'+str(i)+str(j)+'.png')\n",
    "            #Images.append(Image(filename = 'test'+str(i)+str(j)+'.png'))\n",
    "            #IPython.display.Image(png)\n",
    "        \n",
    "    new_df = pd.DataFrame(list(map(list, zip(*[rxn_smiles_all]))), columns = ['rxn_smiles'])\n",
    "    new_df['R'] = [ x.split('>>')[0] for x in new_df.rxn_smiles]\n",
    "    new_df['P'] = [ x.split('>>')[1] for x in new_df.rxn_smiles]\n",
    "    new_df['rxn_type'] = [rxns_str[a]] * len(new_df)\n",
    "    df_all = pd.concat([df_all, new_df])"
   ]
  },
  {
   "cell_type": "code",
   "execution_count": 3,
   "id": "deluxe-astronomy",
   "metadata": {},
   "outputs": [],
   "source": [
    "#olefin\n",
    "olefin_formation = '[O:1]-[O:2]-[C:3]-[C:4]-[H:5]>>[O:1]-[O:2]-[H:5].[C:3]=[C:4]'\n",
    "reactants = [[x] for x in list(df.R.unique())] # RO2's\n",
    "\n",
    "rxn_smiles_all = []\n",
    "for i, reactant in enumerate(reactants):\n",
    "    possible_products = run_rxn(olefin_formation, reactant)\n",
    "    #print(possible_products)\n",
    "\n",
    "    for j, prod in enumerate(possible_products):\n",
    "        if '[HH]' in prod:\n",
    "            continue\n",
    "        rxn_smiles = '.'.join(reactant)+'>>'+'.'.join(prod)\n",
    "        #print(rxn_smiles, rxn_type)\n",
    "        rxn_smiles_all.append(rxn_smiles)\n",
    "        #png = visualize_rxn(rxn_smiles, 'test'+str(i)+str(j)+'.png')\n",
    "        #Images.append(Image(filename = 'test'+str(i)+str(j)+'.png'))\n",
    "        #IPython.display.Image(png)\n",
    "        \n",
    "new_df = pd.DataFrame(list(map(list, zip(*[rxn_smiles_all]))), columns = ['rxn_smiles'])\n",
    "new_df['R'] = [ x.split('>>')[0] for x in new_df.rxn_smiles]\n",
    "new_df['P'] = [ x.split('>>')[1] for x in new_df.rxn_smiles]\n",
    "new_df['rxn_type'] = ['olefin_formation'] * len(new_df)\n",
    "df_all = pd.concat([df_all, new_df])"
   ]
  },
  {
   "cell_type": "code",
   "execution_count": 4,
   "id": "raised-wisdom",
   "metadata": {},
   "outputs": [],
   "source": [
    "#qooh to o2qooh\n",
    "qooh_to_o2qooh = '[C;X3v3+0:1].[O:2]=[O:3]>>[C:1]-[O:2]-[O:3]'\n",
    "reactants = [[x, 'O=O'] for x in list(df.P)] # QOOH's\n",
    "\n",
    "rxn_smiles_all = []\n",
    "for i, reactant in enumerate(reactants):\n",
    "    possible_products = run_rxn(qooh_to_o2qooh, reactant)\n",
    "    #print(possible_products)\n",
    "\n",
    "    for j, prod in enumerate(possible_products):\n",
    "        if '[HH]' in prod:\n",
    "            continue\n",
    "        rxn_smiles = '.'.join(reactant)+'>>'+'.'.join(prod)\n",
    "        rxn_smiles_all.append(rxn_smiles)"
   ]
  },
  {
   "cell_type": "code",
   "execution_count": 5,
   "id": "unusual-unknown",
   "metadata": {},
   "outputs": [],
   "source": [
    "new_df = pd.DataFrame(list(map(list, zip(*[rxn_smiles_all]))), columns = ['rxn_smiles'])\n",
    "new_df['R'] = [ x.split('>>')[0] for x in new_df.rxn_smiles]\n",
    "new_df['P'] = [ x.split('>>')[1] for x in new_df.rxn_smiles]\n",
    "new_df['rxn_type'] = ['qooh_to_o2qooh'] * len(new_df)\n",
    "df_all = pd.concat([df_all, new_df])"
   ]
  },
  {
   "cell_type": "code",
   "execution_count": 6,
   "id": "invalid-procurement",
   "metadata": {},
   "outputs": [],
   "source": [
    "#o2qooh to khp\n",
    "o2qooh_to_khp_H_5mem = '[O:1]-[O:2]-[*:3]-[*:4](-[H:7])-[O:5]-[OH:6]>>[H:7]-[O:1]-[O:2]-[*:3]-[*:4]=[O:5].[OH:6]'\n",
    "o2qooh_to_khp_H_6mem = '[O:1]-[O:2]-[*:3]-[*:4]-[*:8](-[H:7])-[O:5]-[OH:6]>>[H:7]-[O:1]-[O:2]-[*:3]-[*:4]-[*:8]=[O:5].[OH:6]'\n",
    "o2qooh_to_khp_H_7mem = '[O:1]-[O:2]-[*:3]-[*:4]-[*:8]-[*:9](-[H:7])-[O:5]-[OH:6]>>[H:7]-[O:1]-[O:2]-[*:3]-[*:4]-[*:8]-[*:9]=[O:5].[OH:6]'\n",
    "o2qooh_to_khp_H_8mem = '[O:1]-[O:2]-[*:3]-[*:4]-[*:8]-[*:9]-[*:10](-[H:7])-[O:5]-[OH:6]>>[H:7]-[O:1]-[O:2]-[*:3]-[*:4]-[*:8]-[*:9]-[*:10]=[O:5].[OH:6]'\n",
    "\n",
    "rxn_smiles_all = []\n",
    "reactants = [  [x] for x in list(df_all[df_all.rxn_type == 'qooh_to_o2qooh'].P)]\n",
    "for i, reactant in enumerate(reactants):\n",
    "    possible_products = run_rxn(o2qooh_to_khp_H_5mem, reactant)\n",
    "    possible_products += run_rxn(o2qooh_to_khp_H_6mem, reactant)\n",
    "    possible_products += run_rxn(o2qooh_to_khp_H_7mem, reactant)\n",
    "    possible_products += run_rxn(o2qooh_to_khp_H_8mem, reactant)\n",
    "\n",
    "    #if possible_products == []:\n",
    "    #    print(reactant[0])\n",
    "    \n",
    "    for j, prod in enumerate(possible_products):\n",
    "        rxn_smiles = '.'.join(reactant)+'>>'+'.'.join(prod)\n",
    "        rxn_smiles_all.append(rxn_smiles)\n",
    "        \n",
    "new_df = pd.DataFrame(list(map(list, zip(*[rxn_smiles_all]))), columns = ['rxn_smiles'])\n",
    "new_df['R'] = [ x.split('>>')[0] for x in new_df.rxn_smiles]\n",
    "new_df['P'] = [ x.split('>>')[1] for x in new_df.rxn_smiles]\n",
    "new_df['rxn_type'] = ['KHP_formation'] * len(new_df)\n",
    "df_all = pd.concat([df_all, new_df])\n"
   ]
  },
  {
   "cell_type": "code",
   "execution_count": 7,
   "id": "bridal-court",
   "metadata": {},
   "outputs": [],
   "source": [
    "df_all.to_csv('qooh_to_cyc+bscis+olefin+o2qooh+khp.csv', index = False)"
   ]
  },
  {
   "cell_type": "code",
   "execution_count": 8,
   "id": "conventional-occasions",
   "metadata": {},
   "outputs": [],
   "source": [
    "df.to_csv('ro2_qooh_all.csv', index = False)"
   ]
  },
  {
   "cell_type": "code",
   "execution_count": null,
   "id": "knowing-water",
   "metadata": {},
   "outputs": [],
   "source": []
  }
 ],
 "metadata": {
  "kernelspec": {
   "display_name": "Python 3",
   "language": "python",
   "name": "python3"
  },
  "language_info": {
   "codemirror_mode": {
    "name": "ipython",
    "version": 3
   },
   "file_extension": ".py",
   "mimetype": "text/x-python",
   "name": "python",
   "nbconvert_exporter": "python",
   "pygments_lexer": "ipython3",
   "version": "3.7.9"
  }
 },
 "nbformat": 4,
 "nbformat_minor": 5
}
